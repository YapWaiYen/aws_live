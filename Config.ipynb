{
 "cells": [
  {
   "cell_type": "code",
   "execution_count": null,
   "id": "663eaef1",
   "metadata": {},
   "outputs": [],
   "source": [
    "customhost = \"employee.ctwfgijxruex.us-east-1.rds.amazonaws.com\"  \n",
    "customuser = \"aws_user\"\n",
    "custompass = \"bait3273\"\n",
    "customdb = \"employee\" \n",
    "custombucket = \"yapwaiyen-employee\"\n",
    "customregion = \"us-east-1\" "
   ]
  }
 ],
 "metadata": {
  "kernelspec": {
   "display_name": "Python 3 (ipykernel)",
   "language": "python",
   "name": "python3"
  },
  "language_info": {
   "codemirror_mode": {
    "name": "ipython",
    "version": 3
   },
   "file_extension": ".py",
   "mimetype": "text/x-python",
   "name": "python",
   "nbconvert_exporter": "python",
   "pygments_lexer": "ipython3",
   "version": "3.9.7"
  }
 },
 "nbformat": 4,
 "nbformat_minor": 5
}
